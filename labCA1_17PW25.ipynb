{
  "nbformat": 4,
  "nbformat_minor": 0,
  "metadata": {
    "colab": {
      "name": "labCA1_17PW25.ipynb",
      "provenance": [],
      "authorship_tag": "ABX9TyPGY1bMHzYIs7p0qLdv24q7",
      "include_colab_link": true
    },
    "kernelspec": {
      "name": "python3",
      "display_name": "Python 3"
    }
  },
  "cells": [
    {
      "cell_type": "markdown",
      "metadata": {
        "id": "view-in-github",
        "colab_type": "text"
      },
      "source": [
        "<a href=\"https://colab.research.google.com/github/nivramam/college-files-linkrepo/blob/main/labCA1_17PW25.ipynb\" target=\"_parent\"><img src=\"https://colab.research.google.com/assets/colab-badge.svg\" alt=\"Open In Colab\"/></a>"
      ]
    },
    {
      "cell_type": "markdown",
      "metadata": {
        "id": "VBcqiXeJEzgh"
      },
      "source": [
        "Use networkx as the library for the graph storing and final visualization"
      ]
    },
    {
      "cell_type": "code",
      "metadata": {
        "id": "lYlSxeknaXBD"
      },
      "source": [
        "import networkx as nx\r\n",
        "import matplotlib.pyplot as plt\r\n",
        "import pandas as pd\r\n",
        "import csv"
      ],
      "execution_count": 13,
      "outputs": []
    },
    {
      "cell_type": "code",
      "metadata": {
        "id": "okxXXn3Xab7R"
      },
      "source": [
        "counter=0\r\n",
        "# data structures for a algorithm\r\n",
        "v = 20\r\n",
        "graph = {}\r\n",
        "graph_complete = nx.Graph()\r\n",
        "openDS = []\r\n",
        "openDSCost = []\r\n",
        "closedDS = []"
      ],
      "execution_count": 14,
      "outputs": []
    },
    {
      "cell_type": "markdown",
      "metadata": {
        "id": "oSX830wRajUi"
      },
      "source": [
        "Graph operations snippet:"
      ]
    },
    {
      "cell_type": "code",
      "metadata": {
        "id": "C79N4CS8ahkY"
      },
      "source": [
        "# add edge to graph\r\n",
        "def addNewEdgeToGraph(parent, child, cost):\r\n",
        "    if parent not in graph:\r\n",
        "        graph[parent] = {}\r\n",
        "    graph[parent][child] = cost\r\n",
        "\r\n",
        "def retreiveChildNodes(node):\r\n",
        "    return list(graph[node].keys())\r\n",
        "\r\n",
        "# initialize new graph and store edges in csv simultaneously.\r\n",
        "def initNewGraph():\r\n",
        "    with open('edgeStore.csv', mode='w') as edgesData:\r\n",
        "        fieldnames = ['start','end','cost']\r\n",
        "        edgeData_writer = csv.DictWriter(edgesData, fieldnames=fieldnames,lineterminator='\\r')\r\n",
        "        edgeData_writer.writeheader()\r\n",
        "\r\n",
        "        addNewEdgeToGraph('A', 'B', 40)\r\n",
        "        edgeData_writer.writerow({'start':'A','end':'B','cost':40})\r\n",
        "        addNewEdgeToGraph('A', 'C', 11.18)\r\n",
        "        edgeData_writer.writerow({'start': 'A', 'end': 'C','cost':11.18})\r\n",
        "        addNewEdgeToGraph('A', 'K', 20)\r\n",
        "        edgeData_writer.writerow({'start': 'A', 'end': 'K', 'cost': 20})\r\n",
        "        addNewEdgeToGraph('C', 'D', 10)\r\n",
        "        edgeData_writer.writerow({'start': 'C', 'end': 'D', 'cost': 10})\r\n",
        "        addNewEdgeToGraph('D', 'F', 5)\r\n",
        "        edgeData_writer.writerow({'start': 'D', 'end': 'F', 'cost': 5})\r\n",
        "        addNewEdgeToGraph('B', 'F', 22.36)\r\n",
        "        edgeData_writer.writerow({'start': 'B', 'end': 'F', 'cost': 22.36})\r\n",
        "        addNewEdgeToGraph('B', 'H', 10)\r\n",
        "        edgeData_writer.writerow({'start': 'B', 'end': 'H', 'cost': 10})\r\n",
        "        addNewEdgeToGraph('E', 'F', 10)\r\n",
        "        edgeData_writer.writerow({'start': 'E', 'end': 'F', 'cost': 10})\r\n",
        "        addNewEdgeToGraph('E', 'K', 14.14)\r\n",
        "        edgeData_writer.writerow({'start': 'E', 'end': 'K', 'cost': 14.14})\r\n",
        "        addNewEdgeToGraph('F', 'L', 10)\r\n",
        "        edgeData_writer.writerow({'start': 'F', 'end': 'L', 'cost': 10})\r\n",
        "        addNewEdgeToGraph('K', 'L', 20)\r\n",
        "        edgeData_writer.writerow({'start': 'K', 'end': 'L', 'cost': 20})\r\n",
        "        addNewEdgeToGraph('H', 'G', 10)\r\n",
        "        edgeData_writer.writerow({'start': 'H', 'end': 'G', 'cost': 10})\r\n",
        "        addNewEdgeToGraph('G', 'I', 5)\r\n",
        "        edgeData_writer.writerow({'start': 'G', 'end': 'I', 'cost': 5})\r\n",
        "        addNewEdgeToGraph('I', 'J', 10)\r\n",
        "        edgeData_writer.writerow({'start': 'I', 'end': 'J', 'cost': 10})\r\n",
        "        addNewEdgeToGraph('J', 'M', 5)\r\n",
        "        edgeData_writer.writerow({'start': 'J', 'end': 'M', 'cost': 5})\r\n",
        "        addNewEdgeToGraph('L', 'M', 20)\r\n",
        "        edgeData_writer.writerow({'start': 'L', 'end': 'M', 'cost': 20})\r\n",
        "\r\n",
        "    graph_complete = nx.Graph(graph)\r\n",
        "    nx.draw(graph_complete, node_color=\"blue\", with_labels=True)\r\n",
        "    plt.savefig(\"graph.png\",type=\"PNG\")\r\n",
        "    plt.show()\r\n",
        "\r\n",
        "def getSizeofGraph(graph):\r\n",
        "    return len(graph)\r\n",
        "\r\n",
        "def insertNewPath(ds, node):\r\n",
        "    if node not in ds:\r\n",
        "        ds.append(node)"
      ],
      "execution_count": 19,
      "outputs": []
    },
    {
      "cell_type": "markdown",
      "metadata": {
        "id": "MZGhsiuEaqTQ"
      },
      "source": [
        "A algorithm snippet:"
      ]
    },
    {
      "cell_type": "code",
      "metadata": {
        "id": "vxj3ZSK_asrG"
      },
      "source": [
        "'''\r\n",
        "a algo steps:\r\n",
        "1. generate list of possbile paths\r\n",
        "2. store in queue based on priority\r\n",
        "3. choose closest child (least cost) in the queue. until goal reached.\r\n",
        "'''\r\n",
        "def a_Algo(start, dest,straight_line_data):\r\n",
        "    print(\"Simple A Algorithm...\")\r\n",
        "    edgeList = pd.read_csv(\"edgeStore.csv\")\r\n",
        "    # init open()\r\n",
        "    openDS.append(start)\r\n",
        "    iNode = start\r\n",
        "    openDS.remove(start)\r\n",
        "    while True:\r\n",
        "        if(iNode==dest):\r\n",
        "            print(\"goal reached. calculating path\")\r\n",
        "            break\r\n",
        "        closedDS.append(iNode)\r\n",
        "        childrenCost = list()\r\n",
        "        toNodes = edgeList[(edgeList['start']==iNode)]\r\n",
        "        print(toNodes)\r\n",
        "        openDS.append(toNodes['end'])\r\n",
        "        for i in toNodes['end']:\r\n",
        "            # f = g + h calculation\r\n",
        "            childrenCost.append(edgeList[iNode][i]+straight_line_data[(straight_line_data['node']==i)]['cost'])\r\n",
        "            openDSCost.append(straight_line_data[(straight_line_data['node']==i)]['cost'])\r\n",
        "        print(sum(childrenCost))\r\n",
        "        openDSCost.sort()\r\n",
        "        try:\r\n",
        "            # exception occurs when trying to get minimum of the list of costs. -todo\r\n",
        "            iNode = openDS[openDSCost.index(min(openDS))]\r\n",
        "            openDS.remove(openDS[openDSCost.index(min(openDS))])\r\n",
        "        except Exception:\r\n",
        "            pass\r\n",
        "\r\n",
        "        continue\r\n",
        "        # print(openDS)\r\n",
        "    graph_complete = nx.Graph(closedDS)\r\n",
        "    return graph_complete"
      ],
      "execution_count": 17,
      "outputs": []
    },
    {
      "cell_type": "markdown",
      "metadata": {
        "id": "1UzSOfgNay2l"
      },
      "source": [
        "BFS and compute cost function to enable summing up costs."
      ]
    },
    {
      "cell_type": "code",
      "metadata": {
        "id": "R-O7A8apat39"
      },
      "source": [
        "def compute_cost():\r\n",
        "    cost = 0\r\n",
        "    parent = closedDS.pop(0)\r\n",
        "    for child in closedDS:\r\n",
        "        cost += graph[parent][child]\r\n",
        "        graph_complete.add_edge(parent, child, weight=graph[parent][child])\r\n",
        "        parent = child\r\n",
        "    return cost\r\n",
        "\r\n",
        "def bfs(start_node, goal_node):\r\n",
        "    if start_node == goal_node:\r\n",
        "        insertNewPath(closedDS, goal_node)\r\n",
        "        closedDS.append(goal_node)\r\n",
        "        return True\r\n",
        "    else:\r\n",
        "        for node in retreiveChildNodes(start_node):\r\n",
        "            insertNewPath(openDS, node)\r\n",
        "            openDS.append(node)\r\n",
        "        insertNewPath(closedDS, start_node)\r\n",
        "        closedDS.append(start_node)\r\n",
        "        print(bfs(openDS.pop(0), goal_node))\r\n",
        "    print(openDS)\r\n"
      ],
      "execution_count": 16,
      "outputs": []
    },
    {
      "cell_type": "markdown",
      "metadata": {
        "id": "cZGRG_6sa71Q"
      },
      "source": [
        "Main driver snippet:"
      ]
    },
    {
      "cell_type": "code",
      "metadata": {
        "colab": {
          "base_uri": "https://localhost:8080/",
          "height": 1000
        },
        "id": "-l9R4auTa4VC",
        "outputId": "34c7c0e5-b0f6-4c20-9994-710ad7718c30"
      },
      "source": [
        "initNewGraph()\r\n",
        "print(\"----BFS----Breadth First Search for the same graph:\")\r\n",
        "bfs('A','M')\r\n",
        "print(\"Cost of the BFS = %d\" %compute_cost())\r\n",
        "print(\"BFS --- complete\")\r\n",
        "\r\n",
        "\r\n",
        "straight_line_data = pd.read_csv(\"straight-line-dist.csv\",sep=\",\")\r\n",
        "nx.draw(a_Algo('A','M',straight_line_data),node_color=\"blue\",with_labels=True)\r\n",
        "plt.show()"
      ],
      "execution_count": 20,
      "outputs": [
        {
          "output_type": "display_data",
          "data": {
            "image/png": "[encoded data removed]",
            "text/plain": [
              "<Figure size 432x288 with 1 Axes>"
            ]
          },
          "metadata": {
            "tags": []
          }
        },
        {
          "output_type": "stream",
          "text": [
            "----BFS----Breadth First Search for the same graph:\n",
            "True\n",
            "['M', 'L', 'M', 'L', 'C', 'C', 'E', 'E', 'F', 'C', 'E', 'F', 'J', 'J', 'K', 'K', 'L', 'J', 'K', 'L', 'I', 'I', 'G', 'G', 'I', 'G', 'C', 'E', 'F', 'J', 'K', 'L', 'I', 'G', 'M', 'M', 'J', 'K', 'L', 'C', 'E', 'F', 'M', 'J', 'K', 'L', 'C', 'E', 'F']\n",
            "None\n",
            "['M', 'L', 'M', 'L', 'C', 'C', 'E', 'E', 'F', 'C', 'E', 'F', 'J', 'J', 'K', 'K', 'L', 'J', 'K', 'L', 'I', 'I', 'G', 'G', 'I', 'G', 'C', 'E', 'F', 'J', 'K', 'L', 'I', 'G', 'M', 'M', 'J', 'K', 'L', 'C', 'E', 'F', 'M', 'J', 'K', 'L', 'C', 'E', 'F']\n",
            "None\n",
            "['M', 'L', 'M', 'L', 'C', 'C', 'E', 'E', 'F', 'C', 'E', 'F', 'J', 'J', 'K', 'K', 'L', 'J', 'K', 'L', 'I', 'I', 'G', 'G', 'I', 'G', 'C', 'E', 'F', 'J', 'K', 'L', 'I', 'G', 'M', 'M', 'J', 'K', 'L', 'C', 'E', 'F', 'M', 'J', 'K', 'L', 'C', 'E', 'F']\n",
            "None\n",
            "['M', 'L', 'M', 'L', 'C', 'C', 'E', 'E', 'F', 'C', 'E', 'F', 'J', 'J', 'K', 'K', 'L', 'J', 'K', 'L', 'I', 'I', 'G', 'G', 'I', 'G', 'C', 'E', 'F', 'J', 'K', 'L', 'I', 'G', 'M', 'M', 'J', 'K', 'L', 'C', 'E', 'F', 'M', 'J', 'K', 'L', 'C', 'E', 'F']\n",
            "None\n",
            "['M', 'L', 'M', 'L', 'C', 'C', 'E', 'E', 'F', 'C', 'E', 'F', 'J', 'J', 'K', 'K', 'L', 'J', 'K', 'L', 'I', 'I', 'G', 'G', 'I', 'G', 'C', 'E', 'F', 'J', 'K', 'L', 'I', 'G', 'M', 'M', 'J', 'K', 'L', 'C', 'E', 'F', 'M', 'J', 'K', 'L', 'C', 'E', 'F']\n",
            "None\n",
            "['M', 'L', 'M', 'L', 'C', 'C', 'E', 'E', 'F', 'C', 'E', 'F', 'J', 'J', 'K', 'K', 'L', 'J', 'K', 'L', 'I', 'I', 'G', 'G', 'I', 'G', 'C', 'E', 'F', 'J', 'K', 'L', 'I', 'G', 'M', 'M', 'J', 'K', 'L', 'C', 'E', 'F', 'M', 'J', 'K', 'L', 'C', 'E', 'F']\n",
            "None\n",
            "['M', 'L', 'M', 'L', 'C', 'C', 'E', 'E', 'F', 'C', 'E', 'F', 'J', 'J', 'K', 'K', 'L', 'J', 'K', 'L', 'I', 'I', 'G', 'G', 'I', 'G', 'C', 'E', 'F', 'J', 'K', 'L', 'I', 'G', 'M', 'M', 'J', 'K', 'L', 'C', 'E', 'F', 'M', 'J', 'K', 'L', 'C', 'E', 'F']\n",
            "None\n",
            "['M', 'L', 'M', 'L', 'C', 'C', 'E', 'E', 'F', 'C', 'E', 'F', 'J', 'J', 'K', 'K', 'L', 'J', 'K', 'L', 'I', 'I', 'G', 'G', 'I', 'G', 'C', 'E', 'F', 'J', 'K', 'L', 'I', 'G', 'M', 'M', 'J', 'K', 'L', 'C', 'E', 'F', 'M', 'J', 'K', 'L', 'C', 'E', 'F']\n",
            "None\n",
            "['M', 'L', 'M', 'L', 'C', 'C', 'E', 'E', 'F', 'C', 'E', 'F', 'J', 'J', 'K', 'K', 'L', 'J', 'K', 'L', 'I', 'I', 'G', 'G', 'I', 'G', 'C', 'E', 'F', 'J', 'K', 'L', 'I', 'G', 'M', 'M', 'J', 'K', 'L', 'C', 'E', 'F', 'M', 'J', 'K', 'L', 'C', 'E', 'F']\n",
            "None\n",
            "['M', 'L', 'M', 'L', 'C', 'C', 'E', 'E', 'F', 'C', 'E', 'F', 'J', 'J', 'K', 'K', 'L', 'J', 'K', 'L', 'I', 'I', 'G', 'G', 'I', 'G', 'C', 'E', 'F', 'J', 'K', 'L', 'I', 'G', 'M', 'M', 'J', 'K', 'L', 'C', 'E', 'F', 'M', 'J', 'K', 'L', 'C', 'E', 'F']\n",
            "None\n",
            "['M', 'L', 'M', 'L', 'C', 'C', 'E', 'E', 'F', 'C', 'E', 'F', 'J', 'J', 'K', 'K', 'L', 'J', 'K', 'L', 'I', 'I', 'G', 'G', 'I', 'G', 'C', 'E', 'F', 'J', 'K', 'L', 'I', 'G', 'M', 'M', 'J', 'K', 'L', 'C', 'E', 'F', 'M', 'J', 'K', 'L', 'C', 'E', 'F']\n",
            "None\n",
            "['M', 'L', 'M', 'L', 'C', 'C', 'E', 'E', 'F', 'C', 'E', 'F', 'J', 'J', 'K', 'K', 'L', 'J', 'K', 'L', 'I', 'I', 'G', 'G', 'I', 'G', 'C', 'E', 'F', 'J', 'K', 'L', 'I', 'G', 'M', 'M', 'J', 'K', 'L', 'C', 'E', 'F', 'M', 'J', 'K', 'L', 'C', 'E', 'F']\n",
            "None\n",
            "['M', 'L', 'M', 'L', 'C', 'C', 'E', 'E', 'F', 'C', 'E', 'F', 'J', 'J', 'K', 'K', 'L', 'J', 'K', 'L', 'I', 'I', 'G', 'G', 'I', 'G', 'C', 'E', 'F', 'J', 'K', 'L', 'I', 'G', 'M', 'M', 'J', 'K', 'L', 'C', 'E', 'F', 'M', 'J', 'K', 'L', 'C', 'E', 'F']\n",
            "None\n",
            "['M', 'L', 'M', 'L', 'C', 'C', 'E', 'E', 'F', 'C', 'E', 'F', 'J', 'J', 'K', 'K', 'L', 'J', 'K', 'L', 'I', 'I', 'G', 'G', 'I', 'G', 'C', 'E', 'F', 'J', 'K', 'L', 'I', 'G', 'M', 'M', 'J', 'K', 'L', 'C', 'E', 'F', 'M', 'J', 'K', 'L', 'C', 'E', 'F']\n",
            "None\n",
            "['M', 'L', 'M', 'L', 'C', 'C', 'E', 'E', 'F', 'C', 'E', 'F', 'J', 'J', 'K', 'K', 'L', 'J', 'K', 'L', 'I', 'I', 'G', 'G', 'I', 'G', 'C', 'E', 'F', 'J', 'K', 'L', 'I', 'G', 'M', 'M', 'J', 'K', 'L', 'C', 'E', 'F', 'M', 'J', 'K', 'L', 'C', 'E', 'F']\n",
            "None\n",
            "['M', 'L', 'M', 'L', 'C', 'C', 'E', 'E', 'F', 'C', 'E', 'F', 'J', 'J', 'K', 'K', 'L', 'J', 'K', 'L', 'I', 'I', 'G', 'G', 'I', 'G', 'C', 'E', 'F', 'J', 'K', 'L', 'I', 'G', 'M', 'M', 'J', 'K', 'L', 'C', 'E', 'F', 'M', 'J', 'K', 'L', 'C', 'E', 'F']\n",
            "None\n",
            "['M', 'L', 'M', 'L', 'C', 'C', 'E', 'E', 'F', 'C', 'E', 'F', 'J', 'J', 'K', 'K', 'L', 'J', 'K', 'L', 'I', 'I', 'G', 'G', 'I', 'G', 'C', 'E', 'F', 'J', 'K', 'L', 'I', 'G', 'M', 'M', 'J', 'K', 'L', 'C', 'E', 'F', 'M', 'J', 'K', 'L', 'C', 'E', 'F']\n",
            "None\n",
            "['M', 'L', 'M', 'L', 'C', 'C', 'E', 'E', 'F', 'C', 'E', 'F', 'J', 'J', 'K', 'K', 'L', 'J', 'K', 'L', 'I', 'I', 'G', 'G', 'I', 'G', 'C', 'E', 'F', 'J', 'K', 'L', 'I', 'G', 'M', 'M', 'J', 'K', 'L', 'C', 'E', 'F', 'M', 'J', 'K', 'L', 'C', 'E', 'F']\n",
            "None\n",
            "['M', 'L', 'M', 'L', 'C', 'C', 'E', 'E', 'F', 'C', 'E', 'F', 'J', 'J', 'K', 'K', 'L', 'J', 'K', 'L', 'I', 'I', 'G', 'G', 'I', 'G', 'C', 'E', 'F', 'J', 'K', 'L', 'I', 'G', 'M', 'M', 'J', 'K', 'L', 'C', 'E', 'F', 'M', 'J', 'K', 'L', 'C', 'E', 'F']\n",
            "None\n",
            "['M', 'L', 'M', 'L', 'C', 'C', 'E', 'E', 'F', 'C', 'E', 'F', 'J', 'J', 'K', 'K', 'L', 'J', 'K', 'L', 'I', 'I', 'G', 'G', 'I', 'G', 'C', 'E', 'F', 'J', 'K', 'L', 'I', 'G', 'M', 'M', 'J', 'K', 'L', 'C', 'E', 'F', 'M', 'J', 'K', 'L', 'C', 'E', 'F']\n",
            "None\n",
            "['M', 'L', 'M', 'L', 'C', 'C', 'E', 'E', 'F', 'C', 'E', 'F', 'J', 'J', 'K', 'K', 'L', 'J', 'K', 'L', 'I', 'I', 'G', 'G', 'I', 'G', 'C', 'E', 'F', 'J', 'K', 'L', 'I', 'G', 'M', 'M', 'J', 'K', 'L', 'C', 'E', 'F', 'M', 'J', 'K', 'L', 'C', 'E', 'F']\n",
            "None\n",
            "['M', 'L', 'M', 'L', 'C', 'C', 'E', 'E', 'F', 'C', 'E', 'F', 'J', 'J', 'K', 'K', 'L', 'J', 'K', 'L', 'I', 'I', 'G', 'G', 'I', 'G', 'C', 'E', 'F', 'J', 'K', 'L', 'I', 'G', 'M', 'M', 'J', 'K', 'L', 'C', 'E', 'F', 'M', 'J', 'K', 'L', 'C', 'E', 'F']\n",
            "None\n",
            "['M', 'L', 'M', 'L', 'C', 'C', 'E', 'E', 'F', 'C', 'E', 'F', 'J', 'J', 'K', 'K', 'L', 'J', 'K', 'L', 'I', 'I', 'G', 'G', 'I', 'G', 'C', 'E', 'F', 'J', 'K', 'L', 'I', 'G', 'M', 'M', 'J', 'K', 'L', 'C', 'E', 'F', 'M', 'J', 'K', 'L', 'C', 'E', 'F']\n"
          ],
          "name": "stdout"
        },
        {
          "output_type": "error",
          "ename": "KeyError",
          "evalue": "ignored",
          "traceback": [
            "\u001b[0;31m---------------------------------------------------------------------------\u001b[0m",
            "\u001b[0;31mKeyError\u001b[0m                                  Traceback (most recent call last)",
            "\u001b[0;32m<ipython-input-20-c6df6840df10>\u001b[0m in \u001b[0;36m<module>\u001b[0;34m()\u001b[0m\n\u001b[1;32m      2\u001b[0m \u001b[0mprint\u001b[0m\u001b[0;34m(\u001b[0m\u001b[0;34m\"----BFS----Breadth First Search for the same graph:\"\u001b[0m\u001b[0;34m)\u001b[0m\u001b[0;34m\u001b[0m\u001b[0;34m\u001b[0m\u001b[0m\n\u001b[1;32m      3\u001b[0m \u001b[0mbfs\u001b[0m\u001b[0;34m(\u001b[0m\u001b[0;34m'A'\u001b[0m\u001b[0;34m,\u001b[0m\u001b[0;34m'M'\u001b[0m\u001b[0;34m)\u001b[0m\u001b[0;34m\u001b[0m\u001b[0;34m\u001b[0m\u001b[0m\n\u001b[0;32m----> 4\u001b[0;31m \u001b[0mprint\u001b[0m\u001b[0;34m(\u001b[0m\u001b[0;34m\"Cost of the BFS = %d\"\u001b[0m \u001b[0;34m%\u001b[0m\u001b[0mcompute_cost\u001b[0m\u001b[0;34m(\u001b[0m\u001b[0;34m)\u001b[0m\u001b[0;34m)\u001b[0m\u001b[0;34m\u001b[0m\u001b[0;34m\u001b[0m\u001b[0m\n\u001b[0m\u001b[1;32m      5\u001b[0m \u001b[0mprint\u001b[0m\u001b[0;34m(\u001b[0m\u001b[0;34m\"BFS --- complete\"\u001b[0m\u001b[0;34m)\u001b[0m\u001b[0;34m\u001b[0m\u001b[0;34m\u001b[0m\u001b[0m\n\u001b[1;32m      6\u001b[0m \u001b[0;34m\u001b[0m\u001b[0m\n",
            "\u001b[0;32m<ipython-input-16-d90d99ed6286>\u001b[0m in \u001b[0;36mcompute_cost\u001b[0;34m()\u001b[0m\n\u001b[1;32m      3\u001b[0m     \u001b[0mparent\u001b[0m \u001b[0;34m=\u001b[0m \u001b[0mclosedDS\u001b[0m\u001b[0;34m.\u001b[0m\u001b[0mpop\u001b[0m\u001b[0;34m(\u001b[0m\u001b[0;36m0\u001b[0m\u001b[0;34m)\u001b[0m\u001b[0;34m\u001b[0m\u001b[0;34m\u001b[0m\u001b[0m\n\u001b[1;32m      4\u001b[0m     \u001b[0;32mfor\u001b[0m \u001b[0mchild\u001b[0m \u001b[0;32min\u001b[0m \u001b[0mclosedDS\u001b[0m\u001b[0;34m:\u001b[0m\u001b[0;34m\u001b[0m\u001b[0;34m\u001b[0m\u001b[0m\n\u001b[0;32m----> 5\u001b[0;31m         \u001b[0mcost\u001b[0m \u001b[0;34m+=\u001b[0m \u001b[0mgraph\u001b[0m\u001b[0;34m[\u001b[0m\u001b[0mparent\u001b[0m\u001b[0;34m]\u001b[0m\u001b[0;34m[\u001b[0m\u001b[0mchild\u001b[0m\u001b[0;34m]\u001b[0m\u001b[0;34m\u001b[0m\u001b[0;34m\u001b[0m\u001b[0m\n\u001b[0m\u001b[1;32m      6\u001b[0m         \u001b[0mgraph_complete\u001b[0m\u001b[0;34m.\u001b[0m\u001b[0madd_edge\u001b[0m\u001b[0;34m(\u001b[0m\u001b[0mparent\u001b[0m\u001b[0;34m,\u001b[0m \u001b[0mchild\u001b[0m\u001b[0;34m,\u001b[0m \u001b[0mweight\u001b[0m\u001b[0;34m=\u001b[0m\u001b[0mgraph\u001b[0m\u001b[0;34m[\u001b[0m\u001b[0mparent\u001b[0m\u001b[0;34m]\u001b[0m\u001b[0;34m[\u001b[0m\u001b[0mchild\u001b[0m\u001b[0;34m]\u001b[0m\u001b[0;34m)\u001b[0m\u001b[0;34m\u001b[0m\u001b[0;34m\u001b[0m\u001b[0m\n\u001b[1;32m      7\u001b[0m         \u001b[0mparent\u001b[0m \u001b[0;34m=\u001b[0m \u001b[0mchild\u001b[0m\u001b[0;34m\u001b[0m\u001b[0;34m\u001b[0m\u001b[0m\n",
            "\u001b[0;31mKeyError\u001b[0m: 'A'"
          ]
        }
      ]
    }
  ]
}